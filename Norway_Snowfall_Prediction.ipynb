{
  "nbformat": 4,
  "nbformat_minor": 0,
  "metadata": {
    "colab": {
      "private_outputs": true,
      "provenance": [],
      "gpuType": "T4",
      "authorship_tag": "ABX9TyMHXW09cnHNNRKf8qq2sCuN",
      "include_colab_link": true
    },
    "kernelspec": {
      "name": "python3",
      "display_name": "Python 3"
    },
    "language_info": {
      "name": "python"
    },
    "accelerator": "GPU"
  },
  "cells": [
    {
      "cell_type": "markdown",
      "metadata": {
        "id": "view-in-github",
        "colab_type": "text"
      },
      "source": [
        "<a href=\"https://colab.research.google.com/github/moushumipriya/Norway-Snowfall-Prediction-using-LSTM/blob/main/Norway_Snowfall_Prediction.ipynb\" target=\"_parent\"><img src=\"https://colab.research.google.com/assets/colab-badge.svg\" alt=\"Open In Colab\"/></a>"
      ]
    },
    {
      "cell_type": "markdown",
      "source": [
        " Load and Preview Dataset"
      ],
      "metadata": {
        "id": "qPdCtoYws7B_"
      }
    },
    {
      "cell_type": "code",
      "source": [
        "import pandas as pd\n",
        "\n",
        "\n",
        "df = pd.read_csv(\"norway_snowfall_dataset.csv\")\n",
        "\n",
        "print(df.head())\n",
        "\n",
        "print(f\"Dataset shape: {df.shape}\")\n",
        "print(f\"Columns: {df.columns.tolist()}\")\n"
      ],
      "metadata": {
        "id": "I9qewpqXs8AH"
      },
      "execution_count": null,
      "outputs": []
    },
    {
      "cell_type": "markdown",
      "source": [
        "Data Preprocessing and Visualization"
      ],
      "metadata": {
        "id": "VljDkHKftHdm"
      }
    },
    {
      "cell_type": "markdown",
      "source": [
        "Check Missing Values and Data Summary"
      ],
      "metadata": {
        "id": "AtNN99ZmtQAG"
      }
    },
    {
      "cell_type": "code",
      "source": [
        "\n",
        "print(df.isnull().sum())\n",
        "\n",
        "print(df.info())\n",
        "print(df.describe())\n"
      ],
      "metadata": {
        "id": "BGIbn-IBtQtE"
      },
      "execution_count": null,
      "outputs": []
    },
    {
      "cell_type": "markdown",
      "source": [],
      "metadata": {
        "id": "Wzj7eBGZtLIn"
      }
    },
    {
      "cell_type": "markdown",
      "source": [],
      "metadata": {
        "id": "vDcxLb84s95B"
      }
    },
    {
      "cell_type": "markdown",
      "source": [
        "Plot Temperature and Snowfall Trends Over Time\n"
      ],
      "metadata": {
        "id": "64oS5o--tXYe"
      }
    },
    {
      "cell_type": "markdown",
      "source": [],
      "metadata": {
        "id": "KkxkxvVGtk_v"
      }
    },
    {
      "cell_type": "markdown",
      "source": [],
      "metadata": {
        "id": "lUeLHASmttqe"
      }
    },
    {
      "cell_type": "code",
      "source": [
        "import matplotlib.pyplot as plt\n",
        "import seaborn as sns\n",
        "\n",
        "# Convert 'datetime' column to datetime type\n",
        "df['datetime'] = pd.to_datetime(df['datetime'])\n",
        "\n",
        "# Temperature over time plot\n",
        "plt.figure(figsize=(14,6))\n",
        "sns.lineplot(x='datetime', y='temperature_C', data=df)\n",
        "plt.title('Temperature over Time')\n",
        "plt.xlabel('Date')\n",
        "plt.ylabel('Temperature (°C)')\n",
        "plt.show()\n",
        "\n",
        "# Snowfall over time plot\n",
        "plt.figure(figsize=(14,6))\n",
        "sns.lineplot(x='datetime', y='snowfall_mm', data=df)\n",
        "plt.title('Snowfall Amount over Time')\n",
        "plt.xlabel('Date')\n",
        "plt.ylabel('Snowfall (mm)')\n",
        "plt.show()\n"
      ],
      "metadata": {
        "id": "jHkFvrMutuIn"
      },
      "execution_count": null,
      "outputs": []
    },
    {
      "cell_type": "markdown",
      "source": [
        " Feature Engineering\n",
        "\n",
        " Extract datetime features"
      ],
      "metadata": {
        "id": "whxfF9H8tx9I"
      }
    },
    {
      "cell_type": "code",
      "source": [
        "# Extract useful features from datetime\n",
        "df['year'] = df['datetime'].dt.year\n",
        "df['month'] = df['datetime'].dt.month\n",
        "df['day'] = df['datetime'].dt.day\n",
        "df['hour'] = df['datetime'].dt.hour\n",
        "df['dayofweek'] = df['datetime'].dt.dayofweek\n"
      ],
      "metadata": {
        "id": "7RxXlFZut7L3"
      },
      "execution_count": null,
      "outputs": []
    },
    {
      "cell_type": "markdown",
      "source": [
        "Create lag features"
      ],
      "metadata": {
        "id": "585BJlUEt9SG"
      }
    },
    {
      "cell_type": "code",
      "source": [
        "df['lag_1'] = df['snowfall_mm'].shift(1)\n",
        "df['lag_2'] = df['snowfall_mm'].shift(2)\n",
        "df['lag_3'] = df['snowfall_mm'].shift(3)\n"
      ],
      "metadata": {
        "id": "A-G_VdHOt_5v"
      },
      "execution_count": null,
      "outputs": []
    },
    {
      "cell_type": "markdown",
      "source": [
        "Drop rows with NaN (due to lagging)"
      ],
      "metadata": {
        "id": "cprE8YMtuBu8"
      }
    },
    {
      "cell_type": "code",
      "source": [
        "df = df.dropna()\n"
      ],
      "metadata": {
        "id": "I3EhKyM3uFFm"
      },
      "execution_count": null,
      "outputs": []
    },
    {
      "cell_type": "markdown",
      "source": [
        "Final feature columns to use"
      ],
      "metadata": {
        "id": "nz7nmpkQuG3O"
      }
    },
    {
      "cell_type": "code",
      "source": [
        "features = ['temperature_C', 'humidity_%', 'pressure_hPa', 'wind_speed_mps', 'year', 'month', 'day', 'hour', 'dayofweek', 'lag_1', 'lag_2', 'lag_3']\n",
        "target = 'snowfall_mm'"
      ],
      "metadata": {
        "id": "kGY7JhBquJpW"
      },
      "execution_count": null,
      "outputs": []
    },
    {
      "cell_type": "markdown",
      "source": [
        " Train-Test Split\n",
        "\n",
        " Define split ratio and split"
      ],
      "metadata": {
        "id": "DPdjTxS5uLmO"
      }
    },
    {
      "cell_type": "code",
      "source": [
        "# Define train size (e.g., 80%)\n",
        "train_size = int(len(df) * 0.8)\n",
        "\n",
        "# Split features and target\n",
        "X = df[features]\n",
        "y = df[target]\n",
        "\n",
        "# Train and test split\n",
        "X_train, X_test = X[:train_size], X[train_size:]\n",
        "y_train, y_test = y[:train_size], y[train_size:]\n",
        "\n",
        "print(f\"Train shape: {X_train.shape}, Test shape: {X_test.shape}\")"
      ],
      "metadata": {
        "id": "uUL8aCCiuPCh"
      },
      "execution_count": null,
      "outputs": []
    },
    {
      "cell_type": "markdown",
      "source": [
        " Scale features"
      ],
      "metadata": {
        "id": "iKuUeXGhuWxO"
      }
    },
    {
      "cell_type": "code",
      "source": [
        "from sklearn.preprocessing import StandardScaler\n",
        "\n",
        "scaler = StandardScaler()\n",
        "scaler_y = StandardScaler() # Scaler for target variable\n",
        "\n",
        "# Fit on train and transform both train and test\n",
        "X_train_scaled = scaler.fit_transform(X_train)\n",
        "X_test_scaled = scaler.transform(X_test)\n",
        "\n",
        "# Scale the target variable\n",
        "y_train_scaled = scaler_y.fit_transform(y_train.values.reshape(-1, 1))\n",
        "y_test_scaled = scaler_y.transform(y_test.values.reshape(-1, 1))"
      ],
      "metadata": {
        "id": "qII6SzF6uafv"
      },
      "execution_count": null,
      "outputs": []
    },
    {
      "cell_type": "markdown",
      "source": [
        "Build and Train LSTM Model\n",
        "LSTM (Long Short-Term Memory) is perfect for time series forecasting as it learns temporal dependencies.\n",
        "\n"
      ],
      "metadata": {
        "id": "0KQNx9cLucmW"
      }
    },
    {
      "cell_type": "markdown",
      "source": [
        " Reshape input for LSTM"
      ],
      "metadata": {
        "id": "YLnc4avjujc1"
      }
    },
    {
      "cell_type": "code",
      "source": [
        "# Reshape input to be 3D for LSTM [samples, timesteps, features]\n",
        "X_train_lstm = X_train_scaled.reshape((X_train_scaled.shape[0], 1, X_train_scaled.shape[1]))\n",
        "X_test_lstm = X_test_scaled.reshape((X_test_scaled.shape[0], 1, X_test_scaled.shape[1]))\n",
        "\n",
        "print(\"LSTM input shape:\", X_train_lstm.shape)"
      ],
      "metadata": {
        "id": "lpMD92w3ukVQ"
      },
      "execution_count": null,
      "outputs": []
    },
    {
      "cell_type": "markdown",
      "source": [
        "Build the model"
      ],
      "metadata": {
        "id": "pj1kl0cyumbG"
      }
    },
    {
      "cell_type": "code",
      "source": [
        "from tensorflow.keras.models import Sequential\n",
        "from tensorflow.keras.layers import LSTM, Dense\n",
        "\n",
        "model = Sequential()\n",
        "model.add(LSTM(64, input_shape=(X_train_lstm.shape[1], X_train_lstm.shape[2])))\n",
        "model.add(Dense(32, activation='relu'))\n",
        "model.add(Dense(1))  # Output layer\n",
        "\n",
        "model.compile(optimizer='adam', loss='mse', metrics=['mae'])\n",
        "\n",
        "model.summary()\n"
      ],
      "metadata": {
        "id": "oku2KmNluoYR"
      },
      "execution_count": null,
      "outputs": []
    },
    {
      "cell_type": "markdown",
      "source": [
        "Train the model"
      ],
      "metadata": {
        "id": "8rgb_MGJusLu"
      }
    },
    {
      "cell_type": "code",
      "source": [
        "history = model.fit(\n",
        "    X_train_lstm, y_train_scaled, # Use scaled target variable\n",
        "    validation_data=(X_test_lstm, y_test_scaled), # Use scaled target variable\n",
        "    epochs=50,\n",
        "    batch_size=32,\n",
        "    verbose=1\n",
        ")"
      ],
      "metadata": {
        "id": "RRBfKmzKuu9u"
      },
      "execution_count": null,
      "outputs": []
    },
    {
      "cell_type": "markdown",
      "source": [
        "Plot training history"
      ],
      "metadata": {
        "id": "dsYezruuuxAn"
      }
    },
    {
      "cell_type": "code",
      "source": [
        "import matplotlib.pyplot as plt\n",
        "\n",
        "plt.figure(figsize=(12, 5))\n",
        "\n",
        "# Loss\n",
        "plt.subplot(1, 2, 1)\n",
        "plt.plot(history.history['loss'], label='Train Loss')\n",
        "plt.plot(history.history['val_loss'], label='Val Loss')\n",
        "plt.title('Loss Over Epochs')\n",
        "plt.xlabel('Epoch')\n",
        "plt.ylabel('MSE')\n",
        "plt.legend()\n",
        "\n",
        "# MAE\n",
        "plt.subplot(1, 2, 2)\n",
        "plt.plot(history.history['mae'], label='Train MAE')\n",
        "plt.plot(history.history['val_mae'], label='Val MAE')\n",
        "plt.title('MAE Over Epochs')\n",
        "plt.xlabel('Epoch')\n",
        "plt.ylabel('MAE')\n",
        "plt.legend()\n",
        "\n",
        "plt.tight_layout()\n",
        "plt.show()\n"
      ],
      "metadata": {
        "id": "4OrBOCKkuzze"
      },
      "execution_count": null,
      "outputs": []
    },
    {
      "cell_type": "markdown",
      "source": [
        " Make Predictions and Evaluate Performance\n",
        "\n",
        "\n",
        " Predict on Test Set"
      ],
      "metadata": {
        "id": "L9KuVcGqu1ne"
      }
    },
    {
      "cell_type": "code",
      "source": [
        "# Make predictions\n",
        "y_pred = model.predict(X_test_lstm)\n",
        "\n",
        "# Reverse scaling\n",
        "from sklearn.metrics import mean_absolute_error, mean_squared_error, r2_score\n",
        "\n",
        "# Inverse transform predictions and actual values\n",
        "y_pred_inverse = scaler_y.inverse_transform(y_pred) # Use scaler_y\n",
        "y_test_inverse = scaler_y.inverse_transform(y_test_scaled) # Use scaled target variable for inverse transform\n",
        "\n",
        "# Calculate performance metrics\n",
        "mae = mean_absolute_error(y_test_inverse, y_pred_inverse)\n",
        "mse = mean_squared_error(y_test_inverse, y_pred_inverse)\n",
        "rmse = mse**0.5\n",
        "r2 = r2_score(y_test_inverse, y_pred_inverse)\n",
        "\n",
        "print(f\"MAE:  {mae:.2f}\")\n",
        "print(f\"MSE:  {mse:.2f}\")\n",
        "print(f\"RMSE: {rmse:.2f}\")\n",
        "print(f\"R²:   {r2:.4f}\")"
      ],
      "metadata": {
        "id": "IrpDszSku7QG"
      },
      "execution_count": null,
      "outputs": []
    },
    {
      "cell_type": "markdown",
      "source": [
        "Plot Actual vs Predicted Snowfall"
      ],
      "metadata": {
        "id": "U1fznllqu9UA"
      }
    },
    {
      "cell_type": "code",
      "source": [
        "plt.figure(figsize=(14, 6))\n",
        "plt.plot(y_test_inverse, label='Actual Snowfall')\n",
        "plt.plot(y_pred_inverse, label='Predicted Snowfall')\n",
        "plt.title('Actual vs Predicted Snowfall')\n",
        "plt.xlabel('Time Step')\n",
        "plt.ylabel('Snowfall (mm)')\n",
        "plt.legend()\n",
        "plt.grid(True)\n",
        "plt.show()\n"
      ],
      "metadata": {
        "id": "I5E5A3KBvMge"
      },
      "execution_count": null,
      "outputs": []
    },
    {
      "cell_type": "markdown",
      "source": [],
      "metadata": {
        "id": "D_ylo0lSvRQ-"
      }
    },
    {
      "cell_type": "markdown",
      "source": [],
      "metadata": {
        "id": "tX1NT_fzvdHd"
      }
    },
    {
      "cell_type": "code",
      "source": [
        "\n",
        "df['datetime'] = pd.to_datetime(df['datetime'])\n",
        "df['Month'] = df['datetime'].dt.month_name()\n",
        "\n",
        "# Group by Month\n",
        "month_avg = df.groupby(\"Month\")[\"snowfall_mm\"].mean().reindex([\n",
        "    'January','February','March','April','May','June',\n",
        "    'July','August','September','October','November','December'\n",
        "])\n",
        "\n",
        "# Plot\n",
        "plt.figure(figsize=(12,6))\n",
        "sns.barplot(x=month_avg.index, y=month_avg.values, palette=\"coolwarm\")\n",
        "plt.title(\"📅 Average Snowfall by Month (mm)\", fontsize=16)\n",
        "plt.xlabel(\"Month\", fontsize=12)\n",
        "plt.ylabel(\"Average Snowfall (mm)\", fontsize=12)\n",
        "plt.xticks(rotation=45)\n",
        "plt.tight_layout()\n",
        "plt.show()"
      ],
      "metadata": {
        "id": "pHUeeZDivr8G"
      },
      "execution_count": null,
      "outputs": []
    }
  ]
}